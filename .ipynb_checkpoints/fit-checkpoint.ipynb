{
 "cells": [
  {
   "cell_type": "code",
   "execution_count": 0,
   "metadata": {
    "colab": {},
    "colab_type": "code",
    "id": "8AME0CTCp5dH"
   },
   "outputs": [],
   "source": [
    "import pandas as pd \n",
    "from sklearn.model_selection import cross_val_score,KFold,GridSearchCV\n",
    "from sklearn.neighbors import KNeighborsClassifier\n",
    "import pandas as pd \n",
    "import numpy as np\n",
    "\n",
    "df_additional_train = pd.read_csv('/content/drive/My Drive/DS_UMA/data_additional_prepared_train.csv') # чтение из ранее подготовленных \n",
    "df_tr = pd.read_csv('/content/drive/My Drive/DS_UMA/TRAIN_PREPARED.csv') # источников\n",
    "df_train = df_tr.reset_index().merge(df_additional_train, how='inner', on='user', sort=False) #мердж по пользователю\n",
    "df_additional_test = pd.read_csv('/content/drive/My Drive/DS_UMA/data_additional_prepared_test.csv') \n",
    "df_tst = pd.read_csv('/content/drive/My Drive/DS_UMA/TEST_PREPARED.csv')\n",
    "df_test = df_tst.reset_index().merge(df_additional_test, how='inner', on='user', sort=False)\n",
    "delim = df_train.shape[0] # для последующего разделения объединенных выборок"
   ]
  },
  {
   "cell_type": "code",
   "execution_count": 228,
   "metadata": {
    "colab": {
     "base_uri": "https://localhost:8080/",
     "height": 50
    },
    "colab_type": "code",
    "id": "tqYq0RfbXxeP",
    "outputId": "484fd698-05fa-4fe2-f3ca-43544076c8b5"
   },
   "outputs": [
    {
     "data": {
      "text/plain": [
       "0    e98a93bfc7\n",
       "Name: user, dtype: object"
      ]
     },
     "execution_count": 228,
     "metadata": {
      "tags": []
     },
     "output_type": "execute_result"
    }
   ],
   "source": [
    "df_common = pd.concat([df_train,df_test])"
   ]
  },
  {
   "cell_type": "code",
   "execution_count": 0,
   "metadata": {
    "colab": {},
    "colab_type": "code",
    "id": "pojwyplQihQ8"
   },
   "outputs": [],
   "source": [
    "df_common['Difference'] = pd.to_datetime(df_common['last_date']) -  pd.to_datetime(df_common['first_date'])\n",
    "df_common.Difference = df_common.Difference.dt.days\n",
    "df_common['hash_user'] = df_common['user'].apply(hash) # для использования в качестве числового значения \n",
    "df_common = df_common.set_index('cut_date')\n",
    "test_user = df_common[delim:].user\n",
    "df_common = df_common.drop(columns=['user','first_date','last_date','calday'])"
   ]
  },
  {
   "cell_type": "code",
   "execution_count": 0,
   "metadata": {
    "colab": {},
    "colab_type": "code",
    "id": "KlziaqPM9-cR"
   },
   "outputs": [],
   "source": [
    "Y_train = df_common[:delim].label\n",
    "X_train = df_common[:delim].drop(columns = 'label')\n",
    "X_test = df_common[delim:].drop(columns = 'label')"
   ]
  },
  {
   "cell_type": "code",
   "execution_count": 0,
   "metadata": {
    "colab": {},
    "colab_type": "code",
    "id": "52AX39wlI-hA"
   },
   "outputs": [],
   "source": [
    "clf = KNeighborsClassifier(algorithm='auto', leaf_size=30, metric='manhattan',  # обучение с выбранными ранее на GridSearchCV параметрами\n",
    "                           n_neighbors=3, p=2,\n",
    "                     weights='distance') # модель на кросс валидации показала лучшее качество \n",
    "clf.fit(X_train,Y_train)\n",
    "predictions = clf.predict(X_test)"
   ]
  },
  {
   "cell_type": "code",
   "execution_count": 0,
   "metadata": {
    "colab": {},
    "colab_type": "code",
    "id": "hhQniyZtCwXq"
   },
   "outputs": [],
   "source": [
    "df_test = pd.DataFrame(test_user)\n",
    "df_test['predictions'] = predictions"
   ]
  },
  {
   "cell_type": "markdown",
   "metadata": {},
   "source": [
    "Большая просьба оставить фидбэк, как стоит доработать модель, какие есть ошибки и т.д. Заранее спасибо!"
   ]
  },
  {
   "cell_type": "code",
   "execution_count": 0,
   "metadata": {
    "colab": {},
    "colab_type": "code",
    "id": "pCXHIRTTJqhg"
   },
   "outputs": [],
   "source": [
    "df_test = df_test.drop_duplicates()\n",
    "df_test.to_csv('predictions.csv')"
   ]
  }
 ],
 "metadata": {
  "colab": {
   "machine_shape": "hm",
   "name": "Untitled3.ipynb",
   "provenance": []
  },
  "kernelspec": {
   "display_name": "Python [conda env:Anaconda3]",
   "language": "python",
   "name": "conda-env-Anaconda3-py"
  },
  "language_info": {
   "codemirror_mode": {
    "name": "ipython",
    "version": 2
   },
   "file_extension": ".py",
   "mimetype": "text/x-python",
   "name": "python",
   "nbconvert_exporter": "python",
   "pygments_lexer": "ipython2",
   "version": "2.7.15"
  },
  "varInspector": {
   "cols": {
    "lenName": 16,
    "lenType": 16,
    "lenVar": 40
   },
   "kernels_config": {
    "python": {
     "delete_cmd_postfix": "",
     "delete_cmd_prefix": "del ",
     "library": "var_list.py",
     "varRefreshCmd": "print(var_dic_list())"
    },
    "r": {
     "delete_cmd_postfix": ") ",
     "delete_cmd_prefix": "rm(",
     "library": "var_list.r",
     "varRefreshCmd": "cat(var_dic_list()) "
    }
   },
   "types_to_exclude": [
    "module",
    "function",
    "builtin_function_or_method",
    "instance",
    "_Feature"
   ],
   "window_display": false
  }
 },
 "nbformat": 4,
 "nbformat_minor": 1
}
