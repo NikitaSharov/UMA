{
 "cells": [
  {
   "cell_type": "code",
   "execution_count": 15,
   "metadata": {},
   "outputs": [
    {
     "data": {
      "text/html": [
       "<div>\n",
       "<style scoped>\n",
       "    .dataframe tbody tr th:only-of-type {\n",
       "        vertical-align: middle;\n",
       "    }\n",
       "\n",
       "    .dataframe tbody tr th {\n",
       "        vertical-align: top;\n",
       "    }\n",
       "\n",
       "    .dataframe thead th {\n",
       "        text-align: right;\n",
       "    }\n",
       "</style>\n",
       "<table border=\"1\" class=\"dataframe\">\n",
       "  <thead>\n",
       "    <tr style=\"text-align: right;\">\n",
       "      <th></th>\n",
       "      <th>cut_date</th>\n",
       "      <th>days_to_end</th>\n",
       "      <th>user</th>\n",
       "      <th>first_date</th>\n",
       "      <th>last_date</th>\n",
       "      <th>num_country_max_1days</th>\n",
       "      <th>num_city_max_1days</th>\n",
       "      <th>android_max_1days</th>\n",
       "      <th>smarttv_max_1days</th>\n",
       "      <th>iphone_max_1days</th>\n",
       "      <th>...</th>\n",
       "      <th>ipad_max_30days</th>\n",
       "      <th>apple_max_30days</th>\n",
       "      <th>pc_max_30days</th>\n",
       "      <th>activity_1to3</th>\n",
       "      <th>activity_1to7</th>\n",
       "      <th>activity_1to14</th>\n",
       "      <th>activity_7to14</th>\n",
       "      <th>activity_7to21</th>\n",
       "      <th>activity_7to30</th>\n",
       "      <th>activity_14to30</th>\n",
       "    </tr>\n",
       "  </thead>\n",
       "  <tbody>\n",
       "    <tr>\n",
       "      <th>0</th>\n",
       "      <td>2019-05-03 00:00:00</td>\n",
       "      <td>12</td>\n",
       "      <td>e98a93bfc7</td>\n",
       "      <td>2018-10-03 00:00:00</td>\n",
       "      <td>2019-04-26 15:06:22</td>\n",
       "      <td>0.0</td>\n",
       "      <td>0.0</td>\n",
       "      <td>0.0</td>\n",
       "      <td>0.0</td>\n",
       "      <td>0.0</td>\n",
       "      <td>...</td>\n",
       "      <td>0.0</td>\n",
       "      <td>0.0</td>\n",
       "      <td>7.0</td>\n",
       "      <td>0.0</td>\n",
       "      <td>0.0</td>\n",
       "      <td>0.0</td>\n",
       "      <td>0.0</td>\n",
       "      <td>0.0</td>\n",
       "      <td>0.0</td>\n",
       "      <td>0.206851</td>\n",
       "    </tr>\n",
       "  </tbody>\n",
       "</table>\n",
       "<p>1 rows × 145 columns</p>\n",
       "</div>"
      ],
      "text/plain": [
       "              cut_date  days_to_end        user           first_date  \\\n",
       "0  2019-05-03 00:00:00           12  e98a93bfc7  2018-10-03 00:00:00   \n",
       "\n",
       "             last_date  num_country_max_1days  num_city_max_1days  \\\n",
       "0  2019-04-26 15:06:22                    0.0                 0.0   \n",
       "\n",
       "   android_max_1days  smarttv_max_1days  iphone_max_1days       ...         \\\n",
       "0                0.0                0.0               0.0       ...          \n",
       "\n",
       "   ipad_max_30days  apple_max_30days  pc_max_30days  activity_1to3  \\\n",
       "0              0.0               0.0            7.0            0.0   \n",
       "\n",
       "   activity_1to7  activity_1to14  activity_7to14  activity_7to21  \\\n",
       "0            0.0             0.0             0.0             0.0   \n",
       "\n",
       "   activity_7to30  activity_14to30  \n",
       "0             0.0         0.206851  \n",
       "\n",
       "[1 rows x 145 columns]"
      ]
     },
     "execution_count": 15,
     "metadata": {},
     "output_type": "execute_result"
    }
   ],
   "source": [
    "import pandas as pd \n",
    "import os\n",
    "import pandas as pd \n",
    "df_test = pd.read_csv('test_prepared.csv')\n",
    "df_train = pd.read_csv('train_prepared.csv')"
   ]
  },
  {
   "cell_type": "code",
   "execution_count": 7,
   "metadata": {},
   "outputs": [],
   "source": [
    "df_test = pd.get_dummies(df_test, columns = [\"trial\",\"action\"]) # dummy кодирование\n",
    "df_test.to_csv('data_additional_prepared_test.csv')\n",
    "df_train = pd.get_dummies(df_train, columns = [\"trial\",\"action\"])\n",
    "df_train.to_csv('data_additional_prepared_train.csv')"
   ]
  }
 ],
 "metadata": {
  "kernelspec": {
   "display_name": "Python [conda env:Anaconda3]",
   "language": "python",
   "name": "conda-env-Anaconda3-py"
  },
  "language_info": {
   "codemirror_mode": {
    "name": "ipython",
    "version": 2
   },
   "file_extension": ".py",
   "mimetype": "text/x-python",
   "name": "python",
   "nbconvert_exporter": "python",
   "pygments_lexer": "ipython2",
   "version": "2.7.15"
  },
  "varInspector": {
   "cols": {
    "lenName": 16,
    "lenType": 16,
    "lenVar": 40
   },
   "kernels_config": {
    "python": {
     "delete_cmd_postfix": "",
     "delete_cmd_prefix": "del ",
     "library": "var_list.py",
     "varRefreshCmd": "print(var_dic_list())"
    },
    "r": {
     "delete_cmd_postfix": ") ",
     "delete_cmd_prefix": "rm(",
     "library": "var_list.r",
     "varRefreshCmd": "cat(var_dic_list()) "
    }
   },
   "types_to_exclude": [
    "module",
    "function",
    "builtin_function_or_method",
    "instance",
    "_Feature"
   ],
   "window_display": false
  }
 },
 "nbformat": 4,
 "nbformat_minor": 2
}
